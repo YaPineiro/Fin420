{
  "nbformat": 4,
  "nbformat_minor": 0,
  "metadata": {
    "colab": {
      "provenance": [],
      "collapsed_sections": [
        "DRBV5QMMaFTp"
      ],
      "include_colab_link": true
    },
    "kernelspec": {
      "name": "python3",
      "display_name": "Python 3"
    }
  },
  "cells": [
    {
      "cell_type": "markdown",
      "metadata": {
        "id": "view-in-github",
        "colab_type": "text"
      },
      "source": [
        "<a href=\"https://colab.research.google.com/github/YaPineiro/Fin420/blob/main/YP_week_0_session_1.ipynb\" target=\"_parent\"><img src=\"https://colab.research.google.com/assets/colab-badge.svg\" alt=\"Open In Colab\"/></a>"
      ]
    },
    {
      "cell_type": "markdown",
      "metadata": {
        "id": "52Gxm4643-lH"
      },
      "source": [
        "# Interacting with Python\n",
        "\n",
        "We'll do all our interaction with Python (specifically Python 3.x) in these notebooks.  I recommend you first adjust the notebooks settings to your preferences. You can do so by clicking the gear icon in the  upper right.  For example, I use a dark background.\n",
        "\n",
        "## Markdown\n",
        "\n",
        "The text you write is in a format known as `Markdown`.  It is essentially a simple way to write `HTML`.  For example, when I write \\** before and after a word, it becomes <b>bold</b> in the webpage---the \\** is translated into the \\<b> HTML tag.  You can also simply write HTML if you choose.\n",
        "\n",
        "[Here is a good Markdown Cheatsheet](https://github.com/adam-p/markdown-here/wiki/Markdown-Cheatsheet).\n",
        "\n",
        "Note, you can also export Markdown to pdf via LaTeX, or also MS Word.  So by learning Markdown you can export to multiple formats.\n",
        "\n",
        "## Sharing Notebooks\n",
        "\n",
        "Also in the upper right is the `Share` button.  A significant benefit of writing your code in a Juypter Notebook which is hosted online, is the ease with which you can share your work.\n",
        "\n",
        "## Python Packages\n",
        "\n",
        "We will cover python packages in detail later, however at this point it is imporant to note that the Colab notebooks we will use have many of the packages we will use preinstalled.\n",
        "\n",
        "# Linux Server\n",
        "\n",
        "This notebook is running in a Linux virtual machine, and we can interact with this virtual machine via the [BASH shell](https://en.wikipedia.org/wiki/Bash_%28Unix_shell%29).  While it is not necessary to know anything about UNIX/Linux or the BASH shell to use Python or complete this course, we will interact with the Linux system and so it can be helpful.\n",
        "\n",
        "To send a command to the BASH shell we begin a code block with `!`.  For example we can see all the variables defined in our environment with the `env` BASH command.\n",
        "\n",
        "\n"
      ]
    },
    {
      "cell_type": "markdown",
      "source": [],
      "metadata": {
        "id": "BRCCQHIkCCky"
      }
    },
    {
      "cell_type": "code",
      "source": [],
      "metadata": {
        "id": "rr1Obn0aCC5_"
      },
      "execution_count": null,
      "outputs": []
    },
    {
      "cell_type": "markdown",
      "source": [],
      "metadata": {
        "id": "EAZFjbny3U0d"
      }
    },
    {
      "cell_type": "code",
      "source": [],
      "metadata": {
        "id": "2ezbNEPI3VXm"
      },
      "execution_count": null,
      "outputs": []
    },
    {
      "cell_type": "code",
      "metadata": {
        "id": "TjfNONtN75bx",
        "colab": {
          "base_uri": "https://localhost:8080/"
        },
        "outputId": "988ccf22-4c1c-4701-8292-e4e744d40b16"
      },
      "source": [
        "!env"
      ],
      "execution_count": null,
      "outputs": [
        {
          "output_type": "stream",
          "name": "stdout",
          "text": [
            "SHELL=/bin/bash\n",
            "NV_LIBCUBLAS_VERSION=12.2.5.6-1\n",
            "NVIDIA_VISIBLE_DEVICES=all\n",
            "COLAB_JUPYTER_TRANSPORT=ipc\n",
            "NV_NVML_DEV_VERSION=12.2.140-1\n",
            "NV_CUDNN_PACKAGE_NAME=libcudnn8\n",
            "CGROUP_MEMORY_EVENTS=/sys/fs/cgroup/memory.events /var/colab/cgroup/jupyter-children/memory.events\n",
            "NV_LIBNCCL_DEV_PACKAGE=libnccl-dev=2.19.3-1+cuda12.2\n",
            "NV_LIBNCCL_DEV_PACKAGE_VERSION=2.19.3-1\n",
            "VM_GCE_METADATA_HOST=169.254.169.253\n",
            "HOSTNAME=985e4648bb37\n",
            "LANGUAGE=en_US\n",
            "TBE_RUNTIME_ADDR=172.28.0.1:8011\n",
            "GCE_METADATA_TIMEOUT=3\n",
            "NVIDIA_REQUIRE_CUDA=cuda>=12.2 brand=tesla,driver>=470,driver<471 brand=unknown,driver>=470,driver<471 brand=nvidia,driver>=470,driver<471 brand=nvidiartx,driver>=470,driver<471 brand=geforce,driver>=470,driver<471 brand=geforcertx,driver>=470,driver<471 brand=quadro,driver>=470,driver<471 brand=quadrortx,driver>=470,driver<471 brand=titan,driver>=470,driver<471 brand=titanrtx,driver>=470,driver<471 brand=tesla,driver>=525,driver<526 brand=unknown,driver>=525,driver<526 brand=nvidia,driver>=525,driver<526 brand=nvidiartx,driver>=525,driver<526 brand=geforce,driver>=525,driver<526 brand=geforcertx,driver>=525,driver<526 brand=quadro,driver>=525,driver<526 brand=quadrortx,driver>=525,driver<526 brand=titan,driver>=525,driver<526 brand=titanrtx,driver>=525,driver<526\n",
            "NV_LIBCUBLAS_DEV_PACKAGE=libcublas-dev-12-2=12.2.5.6-1\n",
            "NV_NVTX_VERSION=12.2.140-1\n",
            "COLAB_JUPYTER_IP=172.28.0.12\n",
            "NV_CUDA_CUDART_DEV_VERSION=12.2.140-1\n",
            "NV_LIBCUSPARSE_VERSION=12.1.2.141-1\n",
            "COLAB_LANGUAGE_SERVER_PROXY_ROOT_URL=http://172.28.0.1:8013/\n",
            "NV_LIBNPP_VERSION=12.2.1.4-1\n",
            "NCCL_VERSION=2.19.3-1\n",
            "KMP_LISTEN_PORT=6000\n",
            "TF_FORCE_GPU_ALLOW_GROWTH=true\n",
            "ENV=/root/.bashrc\n",
            "PWD=/content\n",
            "COLAB_LANGUAGE_SERVER_PROXY_REQUEST_TIMEOUT=30s\n",
            "TBE_EPHEM_CREDS_ADDR=172.28.0.1:8009\n",
            "TBE_CREDS_ADDR=172.28.0.1:8008\n",
            "NV_CUDNN_PACKAGE=libcudnn8=8.9.6.50-1+cuda12.2\n",
            "NVIDIA_DRIVER_CAPABILITIES=compute,utility\n",
            "COLAB_JUPYTER_TOKEN=\n",
            "LAST_FORCED_REBUILD=20240104\n",
            "NV_NVPROF_DEV_PACKAGE=cuda-nvprof-12-2=12.2.142-1\n",
            "NV_LIBNPP_PACKAGE=libnpp-12-2=12.2.1.4-1\n",
            "NV_LIBNCCL_DEV_PACKAGE_NAME=libnccl-dev\n",
            "TCLLIBPATH=/usr/share/tcltk/tcllib1.20\n",
            "NV_LIBCUBLAS_DEV_VERSION=12.2.5.6-1\n",
            "COLAB_KERNEL_MANAGER_PROXY_HOST=172.28.0.12\n",
            "NVIDIA_PRODUCT_NAME=CUDA\n",
            "NV_LIBCUBLAS_DEV_PACKAGE_NAME=libcublas-dev-12-2\n",
            "USE_AUTH_EPHEM=1\n",
            "NV_CUDA_CUDART_VERSION=12.2.140-1\n",
            "COLAB_WARMUP_DEFAULTS=1\n",
            "HOME=/root\n",
            "LANG=en_US.UTF-8\n",
            "COLUMNS=100\n",
            "CUDA_VERSION=12.2.2\n",
            "CLOUDSDK_CONFIG=/content/.config\n",
            "NV_LIBCUBLAS_PACKAGE=libcublas-12-2=12.2.5.6-1\n",
            "NV_CUDA_NSIGHT_COMPUTE_DEV_PACKAGE=cuda-nsight-compute-12-2=12.2.2-1\n",
            "COLAB_RELEASE_TAG=release-colab_20240118-060147_RC00\n",
            "PYDEVD_USE_FRAME_EVAL=NO\n",
            "KMP_TARGET_PORT=9000\n",
            "CLICOLOR=1\n",
            "KMP_EXTRA_ARGS=--logtostderr --listen_host=172.28.0.12 --target_host=172.28.0.12 --tunnel_background_save_url=https://colab.research.google.com/tun/m/cc48301118ce562b961b3c22d803539adc1e0c19/m-s-2ts4q40nxissz --tunnel_background_save_delay=10s --tunnel_periodic_background_save_frequency=30m0s --enable_output_coalescing=true --output_coalescing_required=true\n",
            "NV_LIBNPP_DEV_PACKAGE=libnpp-dev-12-2=12.2.1.4-1\n",
            "COLAB_LANGUAGE_SERVER_PROXY_LSP_DIRS=/datalab/web/pyright/typeshed-fallback/stdlib,/usr/local/lib/python3.10/dist-packages\n",
            "NV_LIBCUBLAS_PACKAGE_NAME=libcublas-12-2\n",
            "COLAB_KERNEL_MANAGER_PROXY_PORT=6000\n",
            "CLOUDSDK_PYTHON=python3\n",
            "NV_LIBNPP_DEV_VERSION=12.2.1.4-1\n",
            "ENABLE_DIRECTORYPREFETCHER=1\n",
            "NO_GCE_CHECK=False\n",
            "JPY_PARENT_PID=80\n",
            "PYTHONPATH=/env/python\n",
            "TERM=xterm-color\n",
            "NV_LIBCUSPARSE_DEV_VERSION=12.1.2.141-1\n",
            "GIT_PAGER=cat\n",
            "LIBRARY_PATH=/usr/local/cuda/lib64/stubs\n",
            "NV_CUDNN_VERSION=8.9.6.50\n",
            "SHLVL=0\n",
            "PAGER=cat\n",
            "COLAB_LANGUAGE_SERVER_PROXY=/usr/colab/bin/language_service\n",
            "NV_CUDA_LIB_VERSION=12.2.2-1\n",
            "NVARCH=x86_64\n",
            "NV_CUDNN_PACKAGE_DEV=libcudnn8-dev=8.9.6.50-1+cuda12.2\n",
            "NV_CUDA_COMPAT_PACKAGE=cuda-compat-12-2\n",
            "MPLBACKEND=module://ipykernel.pylab.backend_inline\n",
            "NV_LIBNCCL_PACKAGE=libnccl2=2.19.3-1+cuda12.2\n",
            "LD_LIBRARY_PATH=/usr/local/nvidia/lib:/usr/local/nvidia/lib64\n",
            "COLAB_GPU=\n",
            "GCS_READ_CACHE_BLOCK_SIZE_MB=16\n",
            "NV_CUDA_NSIGHT_COMPUTE_VERSION=12.2.2-1\n",
            "NV_NVPROF_VERSION=12.2.142-1\n",
            "LC_ALL=en_US.UTF-8\n",
            "COLAB_FILE_HANDLER_ADDR=localhost:3453\n",
            "PATH=/opt/bin:/usr/local/nvidia/bin:/usr/local/cuda/bin:/usr/local/sbin:/usr/local/bin:/usr/sbin:/usr/bin:/sbin:/bin:/tools/node/bin:/tools/google-cloud-sdk/bin\n",
            "NV_LIBNCCL_PACKAGE_NAME=libnccl2\n",
            "COLAB_DEBUG_ADAPTER_MUX_PATH=/usr/local/bin/dap_multiplexer\n",
            "NV_LIBNCCL_PACKAGE_VERSION=2.19.3-1\n",
            "PYTHONWARNINGS=ignore:::pip._internal.cli.base_command\n",
            "DEBIAN_FRONTEND=noninteractive\n",
            "COLAB_BACKEND_VERSION=next\n",
            "OLDPWD=/\n",
            "_=/usr/bin/env\n"
          ]
        }
      ]
    },
    {
      "cell_type": "markdown",
      "metadata": {
        "id": "YaqbOAe48Eb5"
      },
      "source": [
        "On the first line you can see our CUDNN version.  Let's take a look at anything related to Python."
      ]
    },
    {
      "cell_type": "code",
      "metadata": {
        "id": "QL2BSinl8NU5",
        "colab": {
          "base_uri": "https://localhost:8080/"
        },
        "outputId": "c5d6ed5e-bea8-465c-f199-873e14695511"
      },
      "source": [
        "!env | grep python"
      ],
      "execution_count": 1,
      "outputs": [
        {
          "output_type": "stream",
          "name": "stdout",
          "text": [
            "COLAB_LANGUAGE_SERVER_PROXY_LSP_DIRS=/datalab/web/pyright/typeshed-fallback/stdlib,/usr/local/lib/python3.10/dist-packages\n",
            "CLOUDSDK_PYTHON=python3\n",
            "PYTHONPATH=/env/python\n"
          ]
        }
      ]
    },
    {
      "cell_type": "code",
      "metadata": {
        "id": "OkeQdgIxTiwG"
      },
      "source": [
        "!env > my_env.txt"
      ],
      "execution_count": null,
      "outputs": []
    },
    {
      "cell_type": "code",
      "metadata": {
        "id": "jqm299PWT7fi",
        "colab": {
          "base_uri": "https://localhost:8080/"
        },
        "outputId": "7c67d548-d0e0-48f1-84c8-ab9e35cbebdd"
      },
      "source": [
        "!cat my_env.txt"
      ],
      "execution_count": null,
      "outputs": [
        {
          "output_type": "stream",
          "name": "stdout",
          "text": [
            "SHELL=/bin/bash\n",
            "NV_LIBCUBLAS_VERSION=12.2.5.6-1\n",
            "NVIDIA_VISIBLE_DEVICES=all\n",
            "COLAB_JUPYTER_TRANSPORT=ipc\n",
            "NV_NVML_DEV_VERSION=12.2.140-1\n",
            "NV_CUDNN_PACKAGE_NAME=libcudnn8\n",
            "CGROUP_MEMORY_EVENTS=/sys/fs/cgroup/memory.events /var/colab/cgroup/jupyter-children/memory.events\n",
            "NV_LIBNCCL_DEV_PACKAGE=libnccl-dev=2.19.3-1+cuda12.2\n",
            "NV_LIBNCCL_DEV_PACKAGE_VERSION=2.19.3-1\n",
            "VM_GCE_METADATA_HOST=169.254.169.253\n",
            "HOSTNAME=985e4648bb37\n",
            "LANGUAGE=en_US\n",
            "TBE_RUNTIME_ADDR=172.28.0.1:8011\n",
            "GCE_METADATA_TIMEOUT=3\n",
            "NVIDIA_REQUIRE_CUDA=cuda>=12.2 brand=tesla,driver>=470,driver<471 brand=unknown,driver>=470,driver<471 brand=nvidia,driver>=470,driver<471 brand=nvidiartx,driver>=470,driver<471 brand=geforce,driver>=470,driver<471 brand=geforcertx,driver>=470,driver<471 brand=quadro,driver>=470,driver<471 brand=quadrortx,driver>=470,driver<471 brand=titan,driver>=470,driver<471 brand=titanrtx,driver>=470,driver<471 brand=tesla,driver>=525,driver<526 brand=unknown,driver>=525,driver<526 brand=nvidia,driver>=525,driver<526 brand=nvidiartx,driver>=525,driver<526 brand=geforce,driver>=525,driver<526 brand=geforcertx,driver>=525,driver<526 brand=quadro,driver>=525,driver<526 brand=quadrortx,driver>=525,driver<526 brand=titan,driver>=525,driver<526 brand=titanrtx,driver>=525,driver<526\n",
            "NV_LIBCUBLAS_DEV_PACKAGE=libcublas-dev-12-2=12.2.5.6-1\n",
            "NV_NVTX_VERSION=12.2.140-1\n",
            "COLAB_JUPYTER_IP=172.28.0.12\n",
            "NV_CUDA_CUDART_DEV_VERSION=12.2.140-1\n",
            "NV_LIBCUSPARSE_VERSION=12.1.2.141-1\n",
            "COLAB_LANGUAGE_SERVER_PROXY_ROOT_URL=http://172.28.0.1:8013/\n",
            "NV_LIBNPP_VERSION=12.2.1.4-1\n",
            "NCCL_VERSION=2.19.3-1\n",
            "KMP_LISTEN_PORT=6000\n",
            "TF_FORCE_GPU_ALLOW_GROWTH=true\n",
            "ENV=/root/.bashrc\n",
            "PWD=/content\n",
            "COLAB_LANGUAGE_SERVER_PROXY_REQUEST_TIMEOUT=30s\n",
            "TBE_EPHEM_CREDS_ADDR=172.28.0.1:8009\n",
            "TBE_CREDS_ADDR=172.28.0.1:8008\n",
            "NV_CUDNN_PACKAGE=libcudnn8=8.9.6.50-1+cuda12.2\n",
            "NVIDIA_DRIVER_CAPABILITIES=compute,utility\n",
            "COLAB_JUPYTER_TOKEN=\n",
            "LAST_FORCED_REBUILD=20240104\n",
            "NV_NVPROF_DEV_PACKAGE=cuda-nvprof-12-2=12.2.142-1\n",
            "NV_LIBNPP_PACKAGE=libnpp-12-2=12.2.1.4-1\n",
            "NV_LIBNCCL_DEV_PACKAGE_NAME=libnccl-dev\n",
            "TCLLIBPATH=/usr/share/tcltk/tcllib1.20\n",
            "NV_LIBCUBLAS_DEV_VERSION=12.2.5.6-1\n",
            "COLAB_KERNEL_MANAGER_PROXY_HOST=172.28.0.12\n",
            "NVIDIA_PRODUCT_NAME=CUDA\n",
            "NV_LIBCUBLAS_DEV_PACKAGE_NAME=libcublas-dev-12-2\n",
            "USE_AUTH_EPHEM=1\n",
            "NV_CUDA_CUDART_VERSION=12.2.140-1\n",
            "COLAB_WARMUP_DEFAULTS=1\n",
            "HOME=/root\n",
            "LANG=en_US.UTF-8\n",
            "COLUMNS=100\n",
            "CUDA_VERSION=12.2.2\n",
            "CLOUDSDK_CONFIG=/content/.config\n",
            "NV_LIBCUBLAS_PACKAGE=libcublas-12-2=12.2.5.6-1\n",
            "NV_CUDA_NSIGHT_COMPUTE_DEV_PACKAGE=cuda-nsight-compute-12-2=12.2.2-1\n",
            "COLAB_RELEASE_TAG=release-colab_20240118-060147_RC00\n",
            "PYDEVD_USE_FRAME_EVAL=NO\n",
            "KMP_TARGET_PORT=9000\n",
            "CLICOLOR=1\n",
            "KMP_EXTRA_ARGS=--logtostderr --listen_host=172.28.0.12 --target_host=172.28.0.12 --tunnel_background_save_url=https://colab.research.google.com/tun/m/cc48301118ce562b961b3c22d803539adc1e0c19/m-s-2ts4q40nxissz --tunnel_background_save_delay=10s --tunnel_periodic_background_save_frequency=30m0s --enable_output_coalescing=true --output_coalescing_required=true\n",
            "NV_LIBNPP_DEV_PACKAGE=libnpp-dev-12-2=12.2.1.4-1\n",
            "COLAB_LANGUAGE_SERVER_PROXY_LSP_DIRS=/datalab/web/pyright/typeshed-fallback/stdlib,/usr/local/lib/python3.10/dist-packages\n",
            "NV_LIBCUBLAS_PACKAGE_NAME=libcublas-12-2\n",
            "COLAB_KERNEL_MANAGER_PROXY_PORT=6000\n",
            "CLOUDSDK_PYTHON=python3\n",
            "NV_LIBNPP_DEV_VERSION=12.2.1.4-1\n",
            "ENABLE_DIRECTORYPREFETCHER=1\n",
            "NO_GCE_CHECK=False\n",
            "JPY_PARENT_PID=80\n",
            "PYTHONPATH=/env/python\n",
            "TERM=xterm-color\n",
            "NV_LIBCUSPARSE_DEV_VERSION=12.1.2.141-1\n",
            "GIT_PAGER=cat\n",
            "LIBRARY_PATH=/usr/local/cuda/lib64/stubs\n",
            "NV_CUDNN_VERSION=8.9.6.50\n",
            "SHLVL=1\n",
            "PAGER=cat\n",
            "COLAB_LANGUAGE_SERVER_PROXY=/usr/colab/bin/language_service\n",
            "NV_CUDA_LIB_VERSION=12.2.2-1\n",
            "NVARCH=x86_64\n",
            "NV_CUDNN_PACKAGE_DEV=libcudnn8-dev=8.9.6.50-1+cuda12.2\n",
            "NV_CUDA_COMPAT_PACKAGE=cuda-compat-12-2\n",
            "MPLBACKEND=module://ipykernel.pylab.backend_inline\n",
            "NV_LIBNCCL_PACKAGE=libnccl2=2.19.3-1+cuda12.2\n",
            "LD_LIBRARY_PATH=/usr/local/nvidia/lib:/usr/local/nvidia/lib64\n",
            "COLAB_GPU=\n",
            "GCS_READ_CACHE_BLOCK_SIZE_MB=16\n",
            "NV_CUDA_NSIGHT_COMPUTE_VERSION=12.2.2-1\n",
            "NV_NVPROF_VERSION=12.2.142-1\n",
            "LC_ALL=en_US.UTF-8\n",
            "COLAB_FILE_HANDLER_ADDR=localhost:3453\n",
            "PATH=/opt/bin:/usr/local/nvidia/bin:/usr/local/cuda/bin:/usr/local/sbin:/usr/local/bin:/usr/sbin:/usr/bin:/sbin:/bin:/tools/node/bin:/tools/google-cloud-sdk/bin\n",
            "NV_LIBNCCL_PACKAGE_NAME=libnccl2\n",
            "COLAB_DEBUG_ADAPTER_MUX_PATH=/usr/local/bin/dap_multiplexer\n",
            "NV_LIBNCCL_PACKAGE_VERSION=2.19.3-1\n",
            "PYTHONWARNINGS=ignore:::pip._internal.cli.base_command\n",
            "DEBIAN_FRONTEND=noninteractive\n",
            "COLAB_BACKEND_VERSION=next\n",
            "OLDPWD=/\n",
            "_=/usr/bin/env\n"
          ]
        }
      ]
    },
    {
      "cell_type": "markdown",
      "metadata": {
        "id": "ojxPJwc08nal"
      },
      "source": [
        "Which shows we are running Python 3 and its location on the system.  \n",
        "\n",
        "### The Only BASH Command You Will *Need*\n",
        "\n",
        "Our only necessary use of BASH is to install Python packages which are not already installed on the system.  To do so we'll use the [pip](https://pip.pypa.io/en/stable/) package manager.  For example, to install a package, say the [pytorch](https://pytorch.org/) machine learning framework you execute the following code:"
      ]
    },
    {
      "cell_type": "code",
      "metadata": {
        "id": "Pqya-zBtfDUi",
        "colab": {
          "base_uri": "https://localhost:8080/"
        },
        "outputId": "9b973e23-8ac1-497d-ade6-0a72557ae774"
      },
      "source": [
        "!pip install torch"
      ],
      "execution_count": 2,
      "outputs": [
        {
          "output_type": "stream",
          "name": "stdout",
          "text": [
            "Requirement already satisfied: torch in /usr/local/lib/python3.11/dist-packages (2.5.1+cu121)\n",
            "Requirement already satisfied: filelock in /usr/local/lib/python3.11/dist-packages (from torch) (3.16.1)\n",
            "Requirement already satisfied: typing-extensions>=4.8.0 in /usr/local/lib/python3.11/dist-packages (from torch) (4.12.2)\n",
            "Requirement already satisfied: networkx in /usr/local/lib/python3.11/dist-packages (from torch) (3.4.2)\n",
            "Requirement already satisfied: jinja2 in /usr/local/lib/python3.11/dist-packages (from torch) (3.1.5)\n",
            "Requirement already satisfied: fsspec in /usr/local/lib/python3.11/dist-packages (from torch) (2024.10.0)\n",
            "Requirement already satisfied: nvidia-cuda-nvrtc-cu12==12.1.105 in /usr/local/lib/python3.11/dist-packages (from torch) (12.1.105)\n",
            "Requirement already satisfied: nvidia-cuda-runtime-cu12==12.1.105 in /usr/local/lib/python3.11/dist-packages (from torch) (12.1.105)\n",
            "Requirement already satisfied: nvidia-cuda-cupti-cu12==12.1.105 in /usr/local/lib/python3.11/dist-packages (from torch) (12.1.105)\n",
            "Requirement already satisfied: nvidia-cudnn-cu12==9.1.0.70 in /usr/local/lib/python3.11/dist-packages (from torch) (9.1.0.70)\n",
            "Requirement already satisfied: nvidia-cublas-cu12==12.1.3.1 in /usr/local/lib/python3.11/dist-packages (from torch) (12.1.3.1)\n",
            "Requirement already satisfied: nvidia-cufft-cu12==11.0.2.54 in /usr/local/lib/python3.11/dist-packages (from torch) (11.0.2.54)\n",
            "Requirement already satisfied: nvidia-curand-cu12==10.3.2.106 in /usr/local/lib/python3.11/dist-packages (from torch) (10.3.2.106)\n",
            "Requirement already satisfied: nvidia-cusolver-cu12==11.4.5.107 in /usr/local/lib/python3.11/dist-packages (from torch) (11.4.5.107)\n",
            "Requirement already satisfied: nvidia-cusparse-cu12==12.1.0.106 in /usr/local/lib/python3.11/dist-packages (from torch) (12.1.0.106)\n",
            "Requirement already satisfied: nvidia-nccl-cu12==2.21.5 in /usr/local/lib/python3.11/dist-packages (from torch) (2.21.5)\n",
            "Requirement already satisfied: nvidia-nvtx-cu12==12.1.105 in /usr/local/lib/python3.11/dist-packages (from torch) (12.1.105)\n",
            "Requirement already satisfied: triton==3.1.0 in /usr/local/lib/python3.11/dist-packages (from torch) (3.1.0)\n",
            "Requirement already satisfied: sympy==1.13.1 in /usr/local/lib/python3.11/dist-packages (from torch) (1.13.1)\n",
            "Requirement already satisfied: nvidia-nvjitlink-cu12 in /usr/local/lib/python3.11/dist-packages (from nvidia-cusolver-cu12==11.4.5.107->torch) (12.6.85)\n",
            "Requirement already satisfied: mpmath<1.4,>=1.1.0 in /usr/local/lib/python3.11/dist-packages (from sympy==1.13.1->torch) (1.3.0)\n",
            "Requirement already satisfied: MarkupSafe>=2.0 in /usr/local/lib/python3.11/dist-packages (from jinja2->torch) (3.0.2)\n"
          ]
        }
      ]
    },
    {
      "cell_type": "markdown",
      "metadata": {
        "id": "c-VQbDPhSWLa"
      },
      "source": [
        "# Basic Interaction with Python\n",
        "\n",
        "We enter Python code in a code block.  For example, the code below will add numbers and print \"hello\"."
      ]
    },
    {
      "cell_type": "code",
      "metadata": {
        "colab": {
          "base_uri": "https://localhost:8080/"
        },
        "id": "U-3LopLJSmcv",
        "outputId": "8e429244-3900-459f-b9f0-8283c0d7195b"
      },
      "source": [
        "1 + 6"
      ],
      "execution_count": 3,
      "outputs": [
        {
          "output_type": "execute_result",
          "data": {
            "text/plain": [
              "7"
            ]
          },
          "metadata": {},
          "execution_count": 3
        }
      ]
    },
    {
      "cell_type": "code",
      "metadata": {
        "id": "4BqC2JHKSpfi",
        "colab": {
          "base_uri": "https://localhost:8080/"
        },
        "outputId": "9ae61613-5a9c-4b44-9115-bf996db1e50b"
      },
      "source": [
        "print(\"hello\")"
      ],
      "execution_count": 4,
      "outputs": [
        {
          "output_type": "stream",
          "name": "stdout",
          "text": [
            "hello\n"
          ]
        }
      ]
    },
    {
      "cell_type": "code",
      "metadata": {
        "id": "oooYt9PLSruw"
      },
      "source": [
        "x = 5"
      ],
      "execution_count": 5,
      "outputs": []
    },
    {
      "cell_type": "code",
      "metadata": {
        "id": "-UwXQxJ7SvCj"
      },
      "source": [
        "y = 3"
      ],
      "execution_count": 6,
      "outputs": []
    },
    {
      "cell_type": "code",
      "metadata": {
        "id": "z-P3H9gSSw0f",
        "colab": {
          "base_uri": "https://localhost:8080/"
        },
        "outputId": "b480ff90-5a1c-497a-fed8-815f788df8eb"
      },
      "source": [
        "print(x**y)"
      ],
      "execution_count": 7,
      "outputs": [
        {
          "output_type": "stream",
          "name": "stdout",
          "text": [
            "125\n"
          ]
        }
      ]
    },
    {
      "cell_type": "code",
      "metadata": {
        "id": "kiJbwnwYn4v-",
        "colab": {
          "base_uri": "https://localhost:8080/"
        },
        "outputId": "e89b0128-175a-4b0c-a726-b997440954c7"
      },
      "source": [
        "7/10"
      ],
      "execution_count": 9,
      "outputs": [
        {
          "output_type": "execute_result",
          "data": {
            "text/plain": [
              "0.7"
            ]
          },
          "metadata": {},
          "execution_count": 9
        }
      ]
    },
    {
      "cell_type": "markdown",
      "metadata": {
        "id": "A4pEf_Sqn9zB"
      },
      "source": [
        "## A **text** cell.\n"
      ]
    },
    {
      "cell_type": "code",
      "source": [
        "6/2"
      ],
      "metadata": {
        "colab": {
          "base_uri": "https://localhost:8080/"
        },
        "id": "hm7J0YPEDCTW",
        "outputId": "75f7b588-aa4a-47e9-b005-96f7f4f745d2"
      },
      "execution_count": 10,
      "outputs": [
        {
          "output_type": "execute_result",
          "data": {
            "text/plain": [
              "3.0"
            ]
          },
          "metadata": {},
          "execution_count": 10
        }
      ]
    },
    {
      "cell_type": "code",
      "metadata": {
        "id": "PfKZbR6xoYYI",
        "colab": {
          "base_uri": "https://localhost:8080/"
        },
        "outputId": "0b45d7a3-6182-4a7f-cd82-b5764eb2d701"
      },
      "source": [
        "7 > 7"
      ],
      "execution_count": 11,
      "outputs": [
        {
          "output_type": "execute_result",
          "data": {
            "text/plain": [
              "False"
            ]
          },
          "metadata": {},
          "execution_count": 11
        }
      ]
    },
    {
      "cell_type": "code",
      "source": [
        "x**y"
      ],
      "metadata": {
        "colab": {
          "base_uri": "https://localhost:8080/"
        },
        "id": "1ZmdwC8ADfOE",
        "outputId": "58e7d6d9-dc29-479d-c16b-1ae5af8e9f01"
      },
      "execution_count": 12,
      "outputs": [
        {
          "output_type": "execute_result",
          "data": {
            "text/plain": [
              "125"
            ]
          },
          "metadata": {},
          "execution_count": 12
        }
      ]
    },
    {
      "cell_type": "code",
      "source": [
        "2*5"
      ],
      "metadata": {
        "colab": {
          "base_uri": "https://localhost:8080/"
        },
        "id": "wj4ijs8zDjII",
        "outputId": "3d2d2ac9-1976-4f58-9149-43d154faedb2"
      },
      "execution_count": 13,
      "outputs": [
        {
          "output_type": "execute_result",
          "data": {
            "text/plain": [
              "10"
            ]
          },
          "metadata": {},
          "execution_count": 13
        }
      ]
    },
    {
      "cell_type": "code",
      "source": [
        "6==8"
      ],
      "metadata": {
        "colab": {
          "base_uri": "https://localhost:8080/"
        },
        "id": "fqgJbdQ8Dl3X",
        "outputId": "bea67fce-c415-4f85-f152-440404af9256"
      },
      "execution_count": 14,
      "outputs": [
        {
          "output_type": "execute_result",
          "data": {
            "text/plain": [
              "False"
            ]
          },
          "metadata": {},
          "execution_count": 14
        }
      ]
    },
    {
      "cell_type": "code",
      "source": [
        "2>4"
      ],
      "metadata": {
        "colab": {
          "base_uri": "https://localhost:8080/"
        },
        "id": "sNAJYBsWDorW",
        "outputId": "43756ba5-8a9e-4237-d154-e1c3411a52ae"
      },
      "execution_count": 15,
      "outputs": [
        {
          "output_type": "execute_result",
          "data": {
            "text/plain": [
              "False"
            ]
          },
          "metadata": {},
          "execution_count": 15
        }
      ]
    },
    {
      "cell_type": "markdown",
      "metadata": {
        "id": "qAhmqUnxS7_2"
      },
      "source": [
        "## Basic Arithmetic Operations\n",
        "\n",
        "- Add: `+`\n",
        "- Subtract: `-`\n",
        "- Multiply: `*`\n",
        "- Divide: `/`\n",
        "- Exponent: `**`\n"
      ]
    },
    {
      "cell_type": "markdown",
      "metadata": {
        "id": "OsxEvXgvTkvk"
      },
      "source": [
        "This is all we will need for now, but see [here for a full list of Python operators](https://www.w3schools.com/python/python_operators.asp)."
      ]
    },
    {
      "cell_type": "markdown",
      "metadata": {
        "id": "4HqrFmAQye3P"
      },
      "source": [
        "# Defining Functions\n",
        "\n",
        "If a function is not provided in a package, we can define it ourselves essentially adding it to the language.\n",
        "\n",
        "You don't need to understand everything in this section---in fact some code is a little confusing.  There are only a couple of big takeaways:\n",
        "\n",
        "- Indentation matters.\n",
        "- You will mainly use functions **created by others**.\n",
        "- These functions are documented within the function itself.\n",
        "- You can create larger analyses by chaining together functions.\n",
        "- Test what happens when you do things like multiplying a list by an int.  There is no way to memorize this in the beginning, it is best just to test it."
      ]
    },
    {
      "cell_type": "markdown",
      "metadata": {
        "id": "ih5uWqMB__a9"
      },
      "source": [
        "The following will define a function named `square_it` that takes a single argument `x`.  The function returns the square of `x`."
      ]
    },
    {
      "cell_type": "code",
      "metadata": {
        "id": "W84I3udF0DTY",
        "colab": {
          "base_uri": "https://localhost:8080/"
        },
        "outputId": "0c6e741b-2e84-437a-94fe-0d0aad903d20"
      },
      "source": [
        "def square_it(x):\n",
        "  return x * x\n",
        "\n",
        "print(square_it(5))"
      ],
      "execution_count": 2,
      "outputs": [
        {
          "output_type": "stream",
          "name": "stdout",
          "text": [
            "25\n"
          ]
        }
      ]
    },
    {
      "cell_type": "markdown",
      "metadata": {
        "id": "MIyWBJQ3AUbo"
      },
      "source": [
        "## Indentation is Important\n",
        "\n",
        "Most other languages (C/C++, Javascript, Rust, R, etc) group code using `{}`.  Python is different, it groups code by indentation.  For example, above the function definition must be indented relative to the `def` line.  If it is now, it will case an error, see below:\n"
      ]
    },
    {
      "cell_type": "code",
      "metadata": {
        "id": "s7SEJ_6TlSyF",
        "colab": {
          "base_uri": "https://localhost:8080/",
          "height": 106
        },
        "outputId": "0f890d56-5456-4505-abea-c4575c6e1bb2"
      },
      "source": [
        "def square_it(x):\n",
        "return x * x"
      ],
      "execution_count": 5,
      "outputs": [
        {
          "output_type": "error",
          "ename": "IndentationError",
          "evalue": "expected an indented block after function definition on line 1 (<ipython-input-5-2b867a7c97d4>, line 2)",
          "traceback": [
            "\u001b[0;36m  File \u001b[0;32m\"<ipython-input-5-2b867a7c97d4>\"\u001b[0;36m, line \u001b[0;32m2\u001b[0m\n\u001b[0;31m    return x * x\u001b[0m\n\u001b[0m    ^\u001b[0m\n\u001b[0;31mIndentationError\u001b[0m\u001b[0;31m:\u001b[0m expected an indented block after function definition on line 1\n"
          ]
        }
      ]
    },
    {
      "cell_type": "markdown",
      "metadata": {
        "id": "yp5Jv502lyfl"
      },
      "source": [
        "For now, you can just remember to indent anything after an `:`. Conveniently, the Colab notebook is smart enough to do this for you.  It will automatically indent anything after a `:`, and you would actually have to backspace the indentation to cause an error."
      ]
    },
    {
      "cell_type": "markdown",
      "metadata": {
        "id": "UntlxIXr0NE3"
      },
      "source": [
        "# Application: Bond Valuation\n",
        "\n",
        "Creating a function is useful when we want to reuse code regularly.  For example, calculating a present value is a common task in finance.  So we can create a function that takes the future value, interest rate per period, and number of periods as inputs.  This is similar to having a formul in Excel that references other cells."
      ]
    },
    {
      "cell_type": "markdown",
      "metadata": {
        "id": "zG0JPn4ev5_t"
      },
      "source": [
        "$$PV = \\frac{CF}{(1 + r)^n}$$\n",
        "\n"
      ]
    },
    {
      "cell_type": "code",
      "metadata": {
        "id": "YT_e9HoDyara"
      },
      "source": [
        "def present_value(CF, rate, periods):\n",
        "  return CF / ((1 + rate)**periods)"
      ],
      "execution_count": 6,
      "outputs": []
    },
    {
      "cell_type": "markdown",
      "metadata": {
        "id": "Yu8MR5zWvkME"
      },
      "source": [
        "We can then call the function with:"
      ]
    },
    {
      "cell_type": "code",
      "metadata": {
        "id": "ArPHLZS0yyFz",
        "colab": {
          "base_uri": "https://localhost:8080/"
        },
        "outputId": "e3e50553-0a25-4864-ccdb-d580c4ed4dcb"
      },
      "source": [
        "present_value(100, 0.07, 10)"
      ],
      "execution_count": null,
      "outputs": [
        {
          "output_type": "execute_result",
          "data": {
            "text/plain": [
              "50.83492921347176"
            ]
          },
          "metadata": {},
          "execution_count": 15
        }
      ]
    },
    {
      "cell_type": "markdown",
      "metadata": {
        "id": "xP30g-WoPHT6"
      },
      "source": [
        "### Function Documentation\n",
        "\n",
        "Providing documentation with your code is important.  It may now be clear to you what your code does, but what about after not looking at it for 6 months?\n",
        "\n",
        "Documentation for functions is provided in the following manner.  After the first line of the function (the `def`) the documentation is provided between three single quotes.  Additionally, below each function argument is described, including the argument type.\n"
      ]
    },
    {
      "cell_type": "code",
      "metadata": {
        "id": "sGmk3E_-x28t"
      },
      "source": [
        "def present_value(CF, rate, periods):\n",
        "  '''\n",
        "  Calculate the present value of some future cash flow.\n",
        "\n",
        "  :param float CF: The future cash flow.\n",
        "  :param float rate: The discount rate per period.\n",
        "  :param int periods: The number of periods.\n",
        "  '''\n",
        "  return CF / ((1 + rate)**periods)"
      ],
      "execution_count": null,
      "outputs": []
    },
    {
      "cell_type": "markdown",
      "metadata": {
        "id": "XSaERwB0F1jb"
      },
      "source": [
        "Once you have documented the function, a decent IDE will show that documentation when autocompleting code."
      ]
    },
    {
      "cell_type": "code",
      "metadata": {
        "id": "QOUv6ca6FuMK",
        "colab": {
          "base_uri": "https://localhost:8080/"
        },
        "outputId": "0235823e-f094-4967-c9ab-3d0834dd7b1f"
      },
      "source": [
        "present_value(200, 0.05, 10)"
      ],
      "execution_count": null,
      "outputs": [
        {
          "output_type": "execute_result",
          "data": {
            "text/plain": [
              "122.78265070815183"
            ]
          },
          "metadata": {},
          "execution_count": 18
        }
      ]
    },
    {
      "cell_type": "markdown",
      "metadata": {
        "id": "ysR4rGEtzQBg"
      },
      "source": [
        "### Bond Cash Flows\n",
        "\n",
        "To value a bond, let's also create a function that will provide list of cash flow for the bond.  Since we are only dealing with annual payment bonds, the bond's annual coupon payment (*C*) is:\n",
        "\n",
        "$$C = \\$1000 * coupon\\ rate$$\n",
        "\n",
        "However in the last year the bond also pays its par value (\\$1000). So the bond's final cash flow is $C + \\$1000$."
      ]
    },
    {
      "cell_type": "code",
      "metadata": {
        "id": "ROmH3nqWOX9O"
      },
      "source": [
        "def create_bond_CFs(coupon, years):\n",
        "  '''\n",
        "  Create a list of bond cash flows.\n",
        "\n",
        "  :param float coupon: The bond's coupon rate.\n",
        "  :param int years: The number of years to maturity.\n",
        "  '''\n",
        "  tmp = [coupon * 1000] * years\n",
        "  tmp[years-1] = tmp[years-1] + 1000\n",
        "  return tmp"
      ],
      "execution_count": 18,
      "outputs": []
    },
    {
      "cell_type": "markdown",
      "source": [],
      "metadata": {
        "id": "x0qGwBoS9MUj"
      }
    },
    {
      "cell_type": "markdown",
      "metadata": {
        "id": "lAQzcEIiU-rn"
      },
      "source": [
        "Note the use of `list` times `int` above.  What happens when you multiple a `list` by an `int`?\n",
        "\n",
        "This is a `char` times an int."
      ]
    },
    {
      "cell_type": "code",
      "metadata": {
        "colab": {
          "base_uri": "https://localhost:8080/",
          "height": 35
        },
        "id": "-SoFimcGUOAI",
        "outputId": "9b40cf53-56c0-469b-93f7-3d18b168f275"
      },
      "source": [
        "\"Money printer goes b\" + \"r\" * 30"
      ],
      "execution_count": 19,
      "outputs": [
        {
          "output_type": "execute_result",
          "data": {
            "text/plain": [
              "'Money printer goes brrrrrrrrrrrrrrrrrrrrrrrrrrrrrr'"
            ],
            "application/vnd.google.colaboratory.intrinsic+json": {
              "type": "string"
            }
          },
          "metadata": {},
          "execution_count": 19
        }
      ]
    },
    {
      "cell_type": "markdown",
      "metadata": {
        "id": "zk_srcdfUnpT"
      },
      "source": [
        "A list behaves similarly:"
      ]
    },
    {
      "cell_type": "code",
      "metadata": {
        "colab": {
          "base_uri": "https://localhost:8080/"
        },
        "id": "B2_34L-nUqPU",
        "outputId": "6effcb70-ce50-46db-c841-cd932a2998a0"
      },
      "source": [
        "[\"r\", \"e\", \"d\"] * 5"
      ],
      "execution_count": 22,
      "outputs": [
        {
          "output_type": "execute_result",
          "data": {
            "text/plain": [
              "['r', 'e', 'd', 'r', 'e', 'd', 'r', 'e', 'd', 'r', 'e', 'd', 'r', 'e', 'd']"
            ]
          },
          "metadata": {},
          "execution_count": 22
        }
      ]
    },
    {
      "cell_type": "code",
      "metadata": {
        "colab": {
          "base_uri": "https://localhost:8080/"
        },
        "id": "E-5dn__YHvwi",
        "outputId": "06af6a31-f6cc-4ebb-8088-d89074ca6535"
      },
      "source": [
        "create_bond_CFs(coupon=0.05, years=10)"
      ],
      "execution_count": 21,
      "outputs": [
        {
          "output_type": "execute_result",
          "data": {
            "text/plain": [
              "[50.0, 50.0, 50.0, 50.0, 50.0, 50.0, 50.0, 50.0, 50.0, 1050.0]"
            ]
          },
          "metadata": {},
          "execution_count": 21
        }
      ]
    },
    {
      "cell_type": "markdown",
      "metadata": {
        "id": "JXRokXFZM9xJ"
      },
      "source": [
        "### Passing the Return Value as an Argument\n",
        "\n",
        "We can use our `present_value` function as an argument in other functions.   This is often referred to as a language having \"[first class functions](https://en.wikipedia.org/wiki/First-class_function)\".\n",
        "\n",
        "In this way we can chain more simple functions together to produce a more complicated calculation."
      ]
    },
    {
      "cell_type": "markdown",
      "metadata": {
        "id": "wGDvYqRAiiOs"
      },
      "source": [
        "Now let's use our functions to value a bond."
      ]
    },
    {
      "cell_type": "code",
      "metadata": {
        "id": "UoIgtPNzjYh9"
      },
      "source": [
        "CFs = create_bond_CFs(0.05, 10)"
      ],
      "execution_count": 23,
      "outputs": []
    },
    {
      "cell_type": "markdown",
      "metadata": {
        "id": "oFM9lQVtziA9"
      },
      "source": [
        "This creates a list with our bond's cash flows:"
      ]
    },
    {
      "cell_type": "code",
      "metadata": {
        "id": "JADXt5xVzlST",
        "colab": {
          "base_uri": "https://localhost:8080/"
        },
        "outputId": "47be33e7-b721-4c54-9ecb-3a782597428a"
      },
      "source": [
        "CFs"
      ],
      "execution_count": 24,
      "outputs": [
        {
          "output_type": "execute_result",
          "data": {
            "text/plain": [
              "[50.0, 50.0, 50.0, 50.0, 50.0, 50.0, 50.0, 50.0, 50.0, 1050.0]"
            ]
          },
          "metadata": {},
          "execution_count": 24
        }
      ]
    },
    {
      "cell_type": "markdown",
      "metadata": {
        "id": "p1rRsB0xznlX"
      },
      "source": [
        "We now need to discount each cash flow to today (time 0)."
      ]
    },
    {
      "cell_type": "code",
      "metadata": {
        "id": "KmwWr8Qu0Cft",
        "colab": {
          "base_uri": "https://localhost:8080/"
        },
        "outputId": "22f9eb8c-d77d-4f11-afa3-99b9579540f3"
      },
      "source": [
        "discount_rate = 0.04\n",
        "DCF = []\n",
        "for years in list(range(0,10)):\n",
        "  DCF.append(present_value(CFs[years], discount_rate, years + 1))\n",
        "\n",
        "print(DCF)"
      ],
      "execution_count": 25,
      "outputs": [
        {
          "output_type": "stream",
          "name": "stdout",
          "text": [
            "[48.07692307692307, 46.22781065088757, 44.44981793354574, 42.74020955148629, 41.09635533796759, 39.51572628650729, 37.995890660103164, 36.534510250099196, 35.12933677894153, 709.3423772670886]\n"
          ]
        }
      ]
    },
    {
      "cell_type": "code",
      "metadata": {
        "id": "slosqsvW3U5I",
        "colab": {
          "base_uri": "https://localhost:8080/"
        },
        "outputId": "8dd72970-a58d-4137-8f1e-e822ab5c3ece"
      },
      "source": [
        "sum(DCF)"
      ],
      "execution_count": 26,
      "outputs": [
        {
          "output_type": "execute_result",
          "data": {
            "text/plain": [
              "1081.10895779355"
            ]
          },
          "metadata": {},
          "execution_count": 26
        }
      ]
    },
    {
      "cell_type": "markdown",
      "metadata": {
        "id": "0VKrN6y7aSWS"
      },
      "source": [
        "But wait, **we didn't make use first class functions**.  The following approach creates the bond's cash flows, which are fed into the zip function."
      ]
    },
    {
      "cell_type": "code",
      "metadata": {
        "id": "DUYFQDk0akFg",
        "colab": {
          "base_uri": "https://localhost:8080/"
        },
        "outputId": "8b66dedd-80d3-4832-945d-84088c4362d5"
      },
      "source": [
        "discount_rate = 0.04\n",
        "sum(present_value(x, discount_rate, y) for x, y in zip(create_bond_CFs(0.05, 10), range(1, 11)))"
      ],
      "execution_count": null,
      "outputs": [
        {
          "output_type": "execute_result",
          "data": {
            "text/plain": [
              "1081.10895779355"
            ]
          },
          "metadata": {},
          "execution_count": 28
        }
      ]
    },
    {
      "cell_type": "markdown",
      "metadata": {
        "id": "0SKfUdRJcqJk"
      },
      "source": [
        "The idea of the above is just to show you how you can feed the output of functions into other functions.  In this manner you can break large problems into pieces and chain them together.  \n",
        "\n",
        "### An Easier Approach\n",
        "\n",
        "Admittedly, however, the above is not easy to understand, and code should be as easy to understand as possible. We'll discuss it later, but the line above is the sum of a list comprehension which loops over two variables.  We can value a bond much more easily with the function below."
      ]
    },
    {
      "cell_type": "code",
      "metadata": {
        "id": "jv0Vs8ccdf2Y",
        "colab": {
          "base_uri": "https://localhost:8080/"
        },
        "outputId": "0d147bb0-ac69-4209-8414-c96188bdea27"
      },
      "source": [
        "def easy_bond_value(coupon_rate, YTM, years):\n",
        "  '''\n",
        "  Value a bond the easy way.  Cash flows are assumed to be annual.\n",
        "  The function makes use of the present value of an annuity formula.\n",
        "\n",
        "  :param float coupon_rate: the bond's coupon rate.\n",
        "  :param floar YTM: the bond's yield to maturity (discount rate).\n",
        "  :param int years\" the number of years to maturity.\n",
        "  '''\n",
        "  coupon = coupon_rate * 1000\n",
        "  return coupon * (1 - 1 / (1 + YTM)**years) / YTM + 1000 / (1 + YTM)**years\n",
        "\n",
        "## Now use the easy function to value our bond.\n",
        "print(easy_bond_value(0.05, 0.04, 10))"
      ],
      "execution_count": 28,
      "outputs": [
        {
          "output_type": "stream",
          "name": "stdout",
          "text": [
            "1081.1089577935504\n"
          ]
        }
      ]
    },
    {
      "cell_type": "markdown",
      "metadata": {
        "id": "kJzM_x3ur9S4"
      },
      "source": [
        "Lastly, in the excitement we neglected to format our output properly.  We don't tell the use what units the result is in, and we also provide the result with far too much precision.  Let's fix this:"
      ]
    },
    {
      "cell_type": "code",
      "metadata": {
        "id": "fDMZUVUJv7q5",
        "colab": {
          "base_uri": "https://localhost:8080/"
        },
        "outputId": "e97dab36-3eb8-4364-ab90-a1eaceac1c2b"
      },
      "source": [
        "print(\"The bond value is: $\" + str(round(easy_bond_value(0.05, 0.04, 10), 2)))"
      ],
      "execution_count": 29,
      "outputs": [
        {
          "output_type": "stream",
          "name": "stdout",
          "text": [
            "The bond value is: $1081.11\n"
          ]
        }
      ]
    },
    {
      "cell_type": "markdown",
      "metadata": {
        "id": "2tO-ABa_wLg2"
      },
      "source": [
        "The `round(x, 2)` rounds x to 2 digits, and the `str()` function converts the float returned by `easy_bond_value()` to a string.  Note we **don't** want to have the `easy_bond_value()` function return this string, because we may want to use the bond value as an input into another function."
      ]
    },
    {
      "cell_type": "markdown",
      "metadata": {
        "id": "fiWXeN4m9IFK"
      },
      "source": [
        "## [Optional] Types of Control Flow\n",
        "\n",
        "We used a `for loop` above.  We'll discuss other control flow tools as we use them. But in case you want to read a bit about control flow, see the [documentation](https://docs.python.org/3/tutorial/controlflow.html) here.  We will mainly use `if` statements and `for loops`, and will likely not use `while` loops."
      ]
    },
    {
      "cell_type": "markdown",
      "metadata": {
        "id": "swIDnAiDJKB7"
      },
      "source": [
        "# Basic Data Types\n",
        "\n",
        "We'll discuss various data `types` as we encounter them.  However here we'll give a brief overview of some important types.  Note, this list does **not** include every type---there are qute a few we will not need, such as complex number types.  The main reason to discuss data types is to understand what we can do with particular variables.\n",
        "\n",
        "- Text String (`str`): \"Hello\"\n",
        "- Numeric Types (`int`, `float`): 5, 5.0\n",
        "- Lists (`list`): [\"aapl\", \"tsla\", \"msft\"]\n",
        "- Mapping (`dict`): {\"ticker\" : \"aapl\", \"price\" : 130.45}\n",
        "\n",
        "We can see the type of any variable using the `type()` function."
      ]
    },
    {
      "cell_type": "code",
      "metadata": {
        "id": "IPBJh-OwMJKQ",
        "colab": {
          "base_uri": "https://localhost:8080/"
        },
        "outputId": "ea4cd95c-18f3-4393-9287-9f15745e0593"
      },
      "source": [
        "a_list = [\"hello\", 5, 5.0]\n",
        "print(type(a_list))\n",
        "[type(x) for x in a_list] # note this is called a 'list comprehension'"
      ],
      "execution_count": 30,
      "outputs": [
        {
          "output_type": "stream",
          "name": "stdout",
          "text": [
            "<class 'list'>\n"
          ]
        },
        {
          "output_type": "execute_result",
          "data": {
            "text/plain": [
              "[str, int, float]"
            ]
          },
          "metadata": {},
          "execution_count": 30
        }
      ]
    },
    {
      "cell_type": "markdown",
      "metadata": {
        "id": "Rh2nhLEYReQu"
      },
      "source": [
        "# Exercise\n",
        "\n",
        "Create a function which will calculate the future value of a single cash flow.  The future value is:\n",
        "\n",
        "$$FV = PV(1+r)^n$$\n",
        "\n",
        "where *PV* is the present value, *r* is the rate per period, and *n* is the number of periods.\n",
        "\n",
        "Use your function to calculate the future value of \\$100 in 20 years at 7% interest.\n",
        "\n",
        "## Bonus\n",
        "\n",
        "Create a function to calculate the future value of an *annuity*.  An annuity is a fixed payment at the end of every period (here a year) for fix number of periods.  To calculate the future value of an annuity you calculate the future value of each individual payment in the past period, and sum these future values.  For example, say we have a 3 year annuity with \\$100 payments, and the annual interest rate is 5%.  The future value of the annuity is:\n",
        "\n",
        "$$FVA = \\$100(1.05)^2 + $100(1.05) + \\$100 = \\$315.25$$\n",
        "\n",
        "Try and calculate the future values individually like above.  If you are not able, you can also use this formula:\n",
        "\n",
        "$$FVA = C\\frac{((1+r)^n-1)}{r} = \\$100\\frac{((1.05)^3-1)}{0.05} = \\$315.25$$\n"
      ]
    },
    {
      "cell_type": "markdown",
      "source": [
        "Exercise Answer: Future Value of a single cash flow"
      ],
      "metadata": {
        "id": "ipgwhR4Qxiii"
      }
    },
    {
      "cell_type": "code",
      "source": [
        "def YP_future_value(CF, rate, periods):\n",
        "  '''\n",
        "  Calculate the future value of some future cash flow.\n",
        "\n",
        "  :param float CF: The future cash flow.\n",
        "  :param float rate: The discount rate per period.\n",
        "  :param int periods: The number of periods.\n",
        "  '''\n",
        "  return round(CF * (1 + rate)**periods,2)"
      ],
      "metadata": {
        "id": "iTlSCnWtq5WA"
      },
      "execution_count": 28,
      "outputs": []
    },
    {
      "cell_type": "code",
      "source": [
        "YP_future_value(100, 0.07, 20)"
      ],
      "metadata": {
        "colab": {
          "base_uri": "https://localhost:8080/"
        },
        "id": "zVHxqVXxrR6i",
        "outputId": "0a92e478-d0f9-4623-eece-529429e8ede9"
      },
      "execution_count": 29,
      "outputs": [
        {
          "output_type": "execute_result",
          "data": {
            "text/plain": [
              "386.97"
            ]
          },
          "metadata": {},
          "execution_count": 29
        }
      ]
    },
    {
      "cell_type": "markdown",
      "metadata": {
        "id": "DRBV5QMMaFTp"
      },
      "source": [
        "# Answer\n",
        "\n"
      ]
    },
    {
      "cell_type": "code",
      "metadata": {
        "id": "t_g8njKWaG9O"
      },
      "source": [
        "def future_value(CF, rate, periods):\n",
        "  '''\n",
        "  Calculate the future value of some future cash flow.\n",
        "\n",
        "  :param float CF: The future cash flow.\n",
        "  :param float rate: The discount rate per period.\n",
        "  :param int periods: The number of periods.\n",
        "  '''\n",
        "  return CF * (1 + rate)**periods"
      ],
      "execution_count": 4,
      "outputs": []
    },
    {
      "cell_type": "code",
      "metadata": {
        "id": "eT7SMgBcaeQf",
        "colab": {
          "base_uri": "https://localhost:8080/"
        },
        "outputId": "bbcf4775-2b1a-4ac4-92b0-047e52df039e"
      },
      "source": [
        "future_value(100, 0.07, 20)"
      ],
      "execution_count": 5,
      "outputs": [
        {
          "output_type": "execute_result",
          "data": {
            "text/plain": [
              "386.96844624861836"
            ]
          },
          "metadata": {},
          "execution_count": 5
        }
      ]
    }
  ]
}